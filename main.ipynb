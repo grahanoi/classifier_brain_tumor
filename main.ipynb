{
 "cells": [
  {
   "cell_type": "markdown",
   "metadata": {},
   "source": [
    "# Load librarys"
   ]
  },
  {
   "cell_type": "code",
   "execution_count": 1,
   "metadata": {},
   "outputs": [],
   "source": [
    "import pandas as pd\n",
    "import numpy as np\n",
    "import matplotlib.pyplot as plt\n",
    "import os, shutil\n",
    "import cv2\n",
    "import matplotlib.image as mpimg\n",
    "import seaborn as sns\n",
    "%matplotlib inline\n",
    "plt.style.use('ggplot')"
   ]
  },
  {
   "cell_type": "markdown",
   "metadata": {},
   "source": [
    "# Load Data"
   ]
  },
  {
   "cell_type": "code",
   "execution_count": 2,
   "metadata": {},
   "outputs": [],
   "source": [
    "# Dataset\n",
    "import zipfile\n",
    "\n",
    "z = zipfile.ZipFile('C:/VS_Repos/Computer_vision/archive.zip')\n",
    "\n",
    "z.extractall()"
   ]
  },
  {
   "cell_type": "code",
   "execution_count": 5,
   "metadata": {},
   "outputs": [
    {
     "name": "stdout",
     "output_type": "stream",
     "text": [
      "All files are renamed in the tumor dir.\n"
     ]
    }
   ],
   "source": [
    "folder = 'C:/VS_Repos/Computer_vision/classifier_brain_tumor/tumor'\n",
    "count = 1\n",
    "\n",
    "for filename in os.listdir(folder):\n",
    "    source = folder + filename\n",
    "    destination = folder + \"Y_\" +str(count)+\".jpg\"\n",
    "    os.rename(source, destination)\n",
    "    count+=1\n",
    "print(\"All files are renamed in the tumor dir.\")"
   ]
  },
  {
   "cell_type": "code",
   "execution_count": 6,
   "metadata": {},
   "outputs": [
    {
     "name": "stdout",
     "output_type": "stream",
     "text": [
      "All files are renamed in the no_tumor dir.\n"
     ]
    }
   ],
   "source": [
    "folder = 'C:/VS_Repos/Computer_vision/classifier_brain_tumor/no_tumor'\n",
    "count = 1\n",
    "\n",
    "for filename in os.listdir(folder):\n",
    "    source = folder + filename\n",
    "    destination = folder + \"N_\" +str(count)+\".jpg\"\n",
    "    os.rename(source, destination)\n",
    "    count+=1\n",
    "print(\"All files are renamed in the no_tumor dir.\")"
   ]
  },
  {
   "cell_type": "code",
   "execution_count": 7,
   "metadata": {},
   "outputs": [
    {
     "name": "stdout",
     "output_type": "stream",
     "text": [
      "0\n",
      "0\n"
     ]
    }
   ],
   "source": [
    "listyes = os.listdir(\"C:/VS_Repos/Computer_vision/classifier_brain_tumor/tumor\")\n",
    "number_files_yes = len(listyes)\n",
    "print(number_files_yes)\n",
    "\n",
    "listno = os.listdir(\"C:/VS_Repos/Computer_vision/classifier_brain_tumor/no_tumor\")\n",
    "number_files_no = len(listno)\n",
    "print(number_files_no)"
   ]
  }
 ],
 "metadata": {
  "kernelspec": {
   "display_name": ".cv_venv",
   "language": "python",
   "name": "python3"
  },
  "language_info": {
   "codemirror_mode": {
    "name": "ipython",
    "version": 3
   },
   "file_extension": ".py",
   "mimetype": "text/x-python",
   "name": "python",
   "nbconvert_exporter": "python",
   "pygments_lexer": "ipython3",
   "version": "3.11.9"
  }
 },
 "nbformat": 4,
 "nbformat_minor": 2
}
